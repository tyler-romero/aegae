{
  "cells": [
    {
      "cell_type": "markdown",
      "metadata": {},
      "source": [
        "\n",
        "# Fused Softmax\n",
        "\n",
        "In this tutorial, you will write a fused softmax operation that is significantly faster\n",
        "than PyTorch's native op for a particular class of matrices: those whose rows can fit in\n",
        "the GPU's SRAM.\n",
        "\n",
        "In doing so, you will learn about:\n",
        "\n",
        "* The benefits of kernel fusion for bandwidth-bound operations.\n",
        "\n",
        "* Reduction operators in Triton.\n"
      ]
    },
    {
      "cell_type": "markdown",
      "metadata": {},
      "source": [
        "## Motivations\n",
        "\n",
        "Custom GPU kernels for elementwise additions are educationally valuable but won't get you very far in practice.\n",
        "Let us consider instead the case of a simple (numerically stabilized) softmax operation:\n",
        "\n"
      ]
    },
    {
      "cell_type": "code",
      "execution_count": 1,
      "metadata": {
        "collapsed": false
      },
      "outputs": [],
      "source": [
        "import torch\n",
        "\n",
        "import triton\n",
        "import triton.language as tl\n",
        "from triton.runtime import driver\n",
        "\n",
        "\n",
        "def is_hip():\n",
        "    return triton.runtime.driver.active.get_current_target().backend == \"hip\"\n",
        "\n",
        "\n",
        "def is_cdna():\n",
        "    return is_hip() and triton.runtime.driver.active.get_current_target().arch in ('gfx940', 'gfx941', 'gfx942',\n",
        "                                                                                   'gfx90a', 'gfx908')\n",
        "\n",
        "\n",
        "def naive_softmax(x):\n",
        "    \"\"\"Compute row-wise softmax of X using native pytorch\n",
        "\n",
        "    We subtract the maximum element in order to avoid overflows. Softmax is invariant to\n",
        "    this shift.\n",
        "    \"\"\"\n",
        "    # read  MN elements ; write M  elements\n",
        "    x_max = x.max(dim=1)[0]\n",
        "    # read MN + M elements ; write MN elements\n",
        "    z = x - x_max[:, None]\n",
        "    # read  MN elements ; write MN elements\n",
        "    numerator = torch.exp(z)\n",
        "    # read  MN elements ; write M  elements\n",
        "    denominator = numerator.sum(dim=1)\n",
        "    # read MN + M elements ; write MN elements\n",
        "    ret = numerator / denominator[:, None]\n",
        "    # in total: read 5MN + 2M elements ; wrote 3MN + 2M elements\n",
        "    return ret"
      ]
    },
    {
      "cell_type": "markdown",
      "metadata": {},
      "source": [
        "When implemented naively in PyTorch, computing :code:`y = naive_softmax(x)` for $x \\in R^{M \\times N}$\n",
        "requires reading $5MN + 2M$ elements from DRAM and writing back $3MN + 2M$ elements.\n",
        "This is obviously wasteful; we'd prefer to have a custom \"fused\" kernel that only reads\n",
        "X once and does all the necessary computations on-chip.\n",
        "Doing so would require reading and writing back only $MN$ bytes, so we could\n",
        "expect a theoretical speed-up of ~4x (i.e., $(8MN + 4M) / 2MN$).\n",
        "The `torch.jit.script` flags aims to perform this kind of \"kernel fusion\" automatically\n",
        "but, as we will see later, it is still far from ideal.\n",
        "\n"
      ]
    },
    {
      "cell_type": "markdown",
      "metadata": {},
      "source": [
        "## Compute Kernel\n",
        "\n",
        "Our softmax kernel works as follows: each program loads a set of rows of the input matrix X strided by number of programs,\n",
        "normalizes it and writes back the result to the output Y.\n",
        "\n",
        "Note that one important limitation of Triton is that each block must have a\n",
        "power-of-two number of elements, so we need to internally \"pad\" each row and guard the\n",
        "memory operations properly if we want to handle any possible input shapes:\n",
        "\n"
      ]
    },
    {
      "cell_type": "code",
      "execution_count": 2,
      "metadata": {
        "collapsed": false
      },
      "outputs": [],
      "source": [
        "@triton.jit\n",
        "def softmax_kernel(output_ptr, input_ptr, input_row_stride, output_row_stride, n_rows, n_cols, BLOCK_SIZE: tl.constexpr,\n",
        "                   num_stages: tl.constexpr):\n",
        "    # starting row of the program\n",
        "    row_start = tl.program_id(0)\n",
        "    row_step = tl.num_programs(0)\n",
        "    for row_idx in tl.range(row_start, n_rows, row_step, num_stages=num_stages):\n",
        "        # The stride represents how much we need to increase the pointer to advance 1 row\n",
        "        row_start_ptr = input_ptr + row_idx * input_row_stride\n",
        "        # The block size is the next power of two greater than n_cols, so we can fit each\n",
        "        # row in a single block\n",
        "        col_offsets = tl.arange(0, BLOCK_SIZE)\n",
        "        input_ptrs = row_start_ptr + col_offsets\n",
        "        # Load the row into SRAM, using a mask since BLOCK_SIZE may be > than n_cols\n",
        "        mask = col_offsets < n_cols\n",
        "        row = tl.load(input_ptrs, mask=mask, other=-float('inf'))\n",
        "        # Subtract maximum for numerical stability\n",
        "        row_minus_max = row - tl.max(row, axis=0)\n",
        "        # Note that exponentiation in Triton is fast but approximate (i.e., think __expf in CUDA)\n",
        "        numerator = tl.exp(row_minus_max)\n",
        "        denominator = tl.sum(numerator, axis=0)\n",
        "        softmax_output = numerator / denominator\n",
        "        # Write back output to DRAM\n",
        "        output_row_start_ptr = output_ptr + row_idx * output_row_stride\n",
        "        output_ptrs = output_row_start_ptr + col_offsets\n",
        "        tl.store(output_ptrs, softmax_output, mask=mask)"
      ]
    },
    {
      "cell_type": "markdown",
      "metadata": {},
      "source": [
        "We can create a helper function that enqueues the kernel and its (meta-)arguments for any given input tensor.\n",
        "\n"
      ]
    },
    {
      "cell_type": "code",
      "execution_count": 3,
      "metadata": {
        "collapsed": false
      },
      "outputs": [],
      "source": [
        "device = torch.cuda.current_device()\n",
        "properties = driver.active.utils.get_device_properties(device)\n",
        "NUM_SM = properties[\"multiprocessor_count\"]\n",
        "NUM_REGS = properties[\"max_num_regs\"]\n",
        "SIZE_SMEM = properties[\"max_shared_mem\"]\n",
        "WARP_SIZE = properties[\"warpSize\"]\n",
        "target = triton.runtime.driver.active.get_current_target()\n",
        "kernels = {}\n",
        "\n",
        "\n",
        "def softmax(x):\n",
        "    n_rows, n_cols = x.shape\n",
        "\n",
        "    # The block size of each loop iteration is the smallest power of two greater than the number of columns in `x`\n",
        "    BLOCK_SIZE = triton.next_power_of_2(n_cols)\n",
        "\n",
        "    # Another trick we can use is to ask the compiler to use more threads per row by\n",
        "    # increasing the number of warps (`num_warps`) over which each row is distributed.\n",
        "    # You will see in the next tutorial how to auto-tune this value in a more natural\n",
        "    # way so you don't have to come up with manual heuristics yourself.\n",
        "    num_warps = 8\n",
        "\n",
        "    # Number of software piepling stages.\n",
        "    num_stages = 4 if SIZE_SMEM > 200000 else 2\n",
        "\n",
        "    # Allocate output\n",
        "    y = torch.empty_like(x)\n",
        "\n",
        "    # pre-compile kernel to get register usage and compute thread occupancy.\n",
        "    kernel, num_programs = kernels.get(BLOCK_SIZE, (None, 0))\n",
        "    if kernel is None:\n",
        "        kernel = softmax_kernel.warmup(y, x, x.stride(0), y.stride(0), n_rows, n_cols, BLOCK_SIZE=BLOCK_SIZE,\n",
        "                                       num_stages=num_stages, num_warps=num_warps, grid=(1, ))\n",
        "        kernel._init_handles()\n",
        "        n_regs = kernel.n_regs\n",
        "        size_smem = kernel.metadata.shared\n",
        "        if is_hip():\n",
        "            # NUM_REGS represents the number of regular purpose registers. On CDNA architectures this is half of all registers available.\n",
        "            # However, this is not always the case. In most cases all registers can be used as regular purpose registers.\n",
        "            # ISA SECTION (3.6.4 for CDNA3)\n",
        "            # VGPRs are allocated out of two pools: regular VGPRs and accumulation VGPRs. Accumulation VGPRs are used\n",
        "            # with matrix VALU instructions, and can also be loaded directly from memory. A wave may have up to 512 total\n",
        "            # VGPRs, 256 of each type. When a wave has fewer than 512 total VGPRs, the number of each type is flexible - it is\n",
        "            # not required to be equal numbers of both types.\n",
        "            if is_cdna():\n",
        "                NUM_GPRS = NUM_REGS * 2\n",
        "\n",
        "            # MAX_NUM_THREADS represents maximum number of resident threads per multi-processor.\n",
        "            # When we divide this number with WARP_SIZE we get maximum number of waves that can\n",
        "            # execute on a CU (multi-processor)  in parallel.\n",
        "            MAX_NUM_THREADS = properties[\"max_threads_per_sm\"]\n",
        "            max_num_waves = MAX_NUM_THREADS // WARP_SIZE\n",
        "            occupancy = min(NUM_GPRS // WARP_SIZE // n_regs, max_num_waves) // num_warps\n",
        "        else:\n",
        "            occupancy = NUM_REGS // (n_regs * WARP_SIZE * num_warps)\n",
        "        occupancy = min(occupancy, SIZE_SMEM // size_smem)\n",
        "        num_programs = NUM_SM * occupancy\n",
        "        kernels[BLOCK_SIZE] = (kernel, num_programs)\n",
        "\n",
        "    num_programs = min(num_programs, n_rows)\n",
        "\n",
        "    # Create a number of persistent programs.\n",
        "    kernel[(num_programs, 1, 1)](\n",
        "        y,\n",
        "        x,\n",
        "        x.stride(0),\n",
        "        y.stride(0),\n",
        "        n_rows,\n",
        "        n_cols,\n",
        "    )\n",
        "    return y"
      ]
    },
    {
      "cell_type": "markdown",
      "metadata": {},
      "source": [
        "## Unit Test\n",
        "\n"
      ]
    },
    {
      "cell_type": "markdown",
      "metadata": {},
      "source": [
        "We make sure that we test our kernel on a matrix with an irregular number of rows and columns.\n",
        "This will allow us to verify that our padding mechanism works.\n",
        "\n"
      ]
    },
    {
      "cell_type": "code",
      "execution_count": 4,
      "metadata": {
        "collapsed": false
      },
      "outputs": [],
      "source": [
        "torch.manual_seed(0)\n",
        "x = torch.randn(1823, 781, device='cuda')\n",
        "y_triton = softmax(x)\n",
        "y_torch = torch.softmax(x, axis=1)\n",
        "assert torch.allclose(y_triton, y_torch), (y_triton, y_torch)"
      ]
    },
    {
      "cell_type": "markdown",
      "metadata": {},
      "source": [
        "As expected, the results are identical.\n",
        "\n"
      ]
    },
    {
      "cell_type": "markdown",
      "metadata": {},
      "source": [
        "## Benchmark\n",
        "\n",
        "Here we will benchmark our operation as a function of the number of columns in the input matrix -- assuming 4096 rows.\n",
        "We will then compare its performance against (1) :code:`torch.softmax` and (2) the :code:`naive_softmax` defined above.\n",
        "\n"
      ]
    },
    {
      "cell_type": "code",
      "execution_count": 6,
      "metadata": {
        "collapsed": false
      },
      "outputs": [
        {
          "data": {
            "image/png": "[encoded data removed]",
            "text/plain": [
              "<Figure size 640x480 with 1 Axes>"
            ]
          },
          "metadata": {},
          "output_type": "display_data"
        },
        {
          "name": "stdout",
          "output_type": "stream",
          "text": [
            "softmax-performance:\n",
            "          N      Triton       Torch       Naive\n",
            "0     256.0  562.831759  640.130259  287.445911\n",
            "1     384.0  634.628790  775.466210  337.538218\n",
            "2     512.0  684.131698  811.340103  372.255324\n",
            "3     640.0  698.137770  771.365297  382.588744\n",
            "4     768.0  668.135929  771.695345  411.543709\n",
            "5     896.0  707.571250  823.298015  420.943336\n",
            "6    1024.0  719.737935  778.304934  434.261079\n",
            "7    1152.0  701.371940  560.792336  435.814265\n",
            "8    1280.0  670.992654  617.053446  428.289095\n",
            "9    1408.0  763.110463  654.553461  427.213740\n",
            "10   1536.0  716.742914  701.788884  420.176735\n",
            "11   1664.0  760.835477  747.454267  415.245099\n",
            "12   1792.0  754.809980  778.631872  413.986407\n",
            "13   1920.0  757.038737  807.050656  408.257608\n",
            "14   2048.0  753.850983  820.813935  404.380305\n",
            "15   2176.0  757.143678  840.044665  402.316213\n",
            "16   2304.0  765.994556  851.583053  390.909989\n",
            "17   2432.0  778.382683  870.804438  376.631977\n",
            "18   2560.0  776.629290  863.559973  358.152738\n",
            "19   2688.0  776.053253  879.815509  355.236632\n",
            "20   2816.0  796.292761  880.640865  344.244676\n",
            "21   2944.0  775.086052  880.155034  339.435971\n",
            "22   3072.0  789.501760  885.517247  336.222843\n",
            "23   3200.0  794.724931  877.707803  318.728990\n",
            "24   3328.0  794.400234  888.532702  313.378150\n",
            "25   3456.0  815.899278  886.125297  298.084043\n",
            "26   3584.0  807.842586  876.322993  288.038152\n",
            "27   3712.0  811.031680  897.512550  280.159041\n",
            "28   3840.0  824.302631  910.484299  276.216604\n",
            "29   3968.0  823.809807  885.714482  272.225373\n",
            "30   4096.0  825.169925  902.669421  269.982125\n",
            "31   4224.0  831.230729  895.474723  268.291863\n",
            "32   4352.0  834.219045  888.248416  266.102723\n",
            "33   4480.0  836.400054  901.159815  265.050993\n",
            "34   4608.0  835.318841  901.273508  263.262178\n",
            "35   4736.0  843.582829  900.813961  260.460359\n",
            "36   4864.0  841.107734  901.913185  260.026107\n",
            "37   4992.0  846.074124  900.910863  258.420940\n",
            "38   5120.0  848.586504  897.185302  257.888826\n",
            "39   5248.0  850.622148  894.479617  256.541268\n",
            "40   5376.0  851.285194  908.126362  255.445892\n",
            "41   5504.0  852.013957  899.592949  254.767284\n",
            "42   5632.0  851.643519  902.742397  254.137540\n",
            "43   5760.0  852.337406  904.910279  236.459269\n",
            "44   5888.0  845.653996  900.926120  252.321233\n",
            "45   6016.0  856.081629  903.733704  251.536331\n",
            "46   6144.0  857.866247  898.808220  248.456532\n",
            "47   6272.0  858.232846  893.276837  250.285319\n",
            "48   6400.0  861.169405  902.639413  250.144303\n",
            "49   6528.0  858.759084  906.852782  249.597656\n",
            "50   6656.0  860.721939  904.748814  248.061612\n",
            "51   6784.0  864.754192  911.888990  248.945220\n",
            "52   6912.0  863.533683  908.354952  248.205640\n",
            "53   7040.0  865.807059  903.935965  248.129685\n",
            "54   7168.0  868.296255  902.073655  247.371091\n",
            "55   7296.0  864.445767  907.509036  247.251820\n",
            "56   7424.0  869.839913  908.115316  246.485077\n",
            "57   7552.0  868.477336  901.098692  246.918741\n",
            "58   7680.0  869.504035  903.513541  230.977454\n",
            "59   7808.0  841.720083  910.019815  245.532132\n",
            "60   7936.0  871.128880  907.908593  244.833592\n",
            "61   8064.0  871.257333  906.328181  244.934295\n",
            "62   8192.0  872.946859  908.084948  230.165951\n",
            "63   8320.0  853.678808  898.050775  230.705417\n",
            "64   8448.0  850.075381  908.290111  230.185994\n",
            "65   8576.0  854.035635  907.402394  230.445058\n",
            "66   8704.0  856.657879  908.025751  230.064561\n",
            "67   8832.0  854.434820  908.799293  230.040855\n",
            "68   8960.0  856.650086  906.871562  230.248587\n",
            "69   9088.0  858.949377  908.792667  230.073456\n",
            "70   9216.0  856.434135  900.639789  218.580785\n",
            "71   9344.0  853.399064  902.895582  229.972461\n",
            "72   9472.0  859.736820  907.672006  230.563165\n",
            "73   9600.0  860.779815  907.198728  230.171544\n",
            "74   9728.0  860.405490  909.258610  230.446405\n",
            "75   9856.0  861.949825  908.580406  230.253471\n",
            "76   9984.0  861.752384  907.108425  230.021830\n",
            "77  10112.0  862.753394  905.034912  230.255288\n",
            "78  10240.0  865.212837  910.707104  230.548440\n",
            "79  10368.0  864.283213  907.866724  230.525402\n",
            "80  10496.0  867.619423  908.159569  230.211998\n",
            "81  10624.0  834.546076  869.250817  230.427737\n",
            "82  10752.0  865.507138  908.001161  230.353268\n",
            "83  10880.0  868.712833  908.028387  230.912309\n",
            "84  11008.0  869.513092  908.281832  230.410291\n",
            "85  11136.0  868.213132  908.621347  230.601559\n",
            "86  11264.0  868.664682  908.926374  230.523534\n",
            "87  11392.0  871.169541  908.889193  230.459660\n",
            "88  11520.0  869.994175  909.557167  230.667481\n",
            "89  11648.0  872.528696  908.540643  230.798853\n",
            "90  11776.0  872.662682  911.039868  219.374367\n",
            "91  11904.0  844.789443  908.277986  230.939756\n",
            "92  12032.0  873.067680  910.067519  230.694969\n",
            "93  12160.0  875.152187  909.960929  230.950608\n",
            "94  12288.0  873.828607  908.672201  230.959796\n",
            "95  12416.0  874.345931  909.489368  230.664442\n",
            "96  12544.0  874.825491  910.659600  230.902039\n",
            "97  12672.0  876.174797  910.312404  230.952146\n"
          ]
        }
      ],
      "source": [
        "@triton.testing.perf_report(\n",
        "    triton.testing.Benchmark(\n",
        "        x_names=['N'],  # argument names to use as an x-axis for the plot\n",
        "        x_vals=[128 * i for i in range(2, 100)],  # different possible values for `x_name`\n",
        "        line_arg='provider',  # argument name whose value corresponds to a different line in the plot\n",
        "        line_vals=['triton', 'torch', 'naive'],  # possible values for `line_arg``\n",
        "        line_names=[\n",
        "            \"Triton\",\n",
        "            \"Torch\",\n",
        "            \"Naive\",\n",
        "        ],  # label name for the lines\n",
        "        styles=[('blue', '-'), ('green', '-'), ('red', '-')],  # line styles\n",
        "        ylabel=\"GB/s\",  # label name for the y-axis\n",
        "        plot_name=\"softmax-performance\",  # name for the plot. Used also as a file name for saving the plot.\n",
        "        args={'M': 4096},  # values for function arguments not in `x_names` and `y_name`\n",
        "    ))\n",
        "def benchmark(M, N, provider):\n",
        "    x = torch.randn(M, N, device='cuda', dtype=torch.float32)\n",
        "    stream = torch.cuda.Stream()\n",
        "    torch.cuda.set_stream(stream)\n",
        "    if provider == 'torch':\n",
        "        ms = triton.testing.do_bench(lambda: torch.softmax(x, axis=-1))\n",
        "    if provider == 'triton':\n",
        "        ms = triton.testing.do_bench(lambda: softmax(x))\n",
        "    if provider == 'naive':\n",
        "        ms = triton.testing.do_bench(lambda: naive_softmax(x))\n",
        "    gbps = lambda ms: 2 * x.nelement() * x.element_size() * 1e-9 / (ms * 1e-3)\n",
        "    return gbps(ms)\n",
        "\n",
        "\n",
        "benchmark.run(show_plots=True, print_data=True)"
      ]
    },
    {
      "cell_type": "markdown",
      "metadata": {},
      "source": [
        "In the above plot, we can see that:\n",
        " - Triton is 4x faster than the Torch JIT. This confirms our suspicions that the Torch JIT does not do any fusion here.\n",
        " - Triton is noticeably faster than :code:`torch.softmax` -- in addition to being **easier to read, understand and maintain**.\n",
        "   Note however that the PyTorch `softmax` operation is more general and will work on tensors of any shape.\n",
        "\n"
      ]
    }
  ],
  "metadata": {
    "kernelspec": {
      "display_name": "Python 3",
      "language": "python",
      "name": "python3"
    },
    "language_info": {
      "codemirror_mode": {
        "name": "ipython",
        "version": 3
      },
      "file_extension": ".py",
      "mimetype": "text/x-python",
      "name": "python",
      "nbconvert_exporter": "python",
      "pygments_lexer": "ipython3",
      "version": "3.12.5"
    }
  },
  "nbformat": 4,
  "nbformat_minor": 0
}
